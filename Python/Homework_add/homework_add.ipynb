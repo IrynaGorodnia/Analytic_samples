{
 "cells": [
  {
   "cell_type": "code",
   "execution_count": 3,
   "metadata": {},
   "outputs": [
    {
     "name": "stdout",
     "output_type": "stream",
     "text": [
      "False\n"
     ]
    }
   ],
   "source": [
    "# 1. Запросите два вещественных числа в качестве следующих переменных:\n",
    "# - Длина стороны квадрата\n",
    "# - Радиус круга\n",
    "# Выведите «True», если окружность круга больше квадрата, иначе\n",
    "# «False».\n",
    "import math\n",
    "\n",
    "def get_number(ask):\n",
    "\t\"\"\" \n",
    "\tAsk value and check type of this value. \n",
    "\tif typy is not int, will ask again input correct value\n",
    "\t\n",
    "\tArgs: description what need to enter\n",
    "\t\"\"\"\n",
    "\twhile True:\n",
    "\t\ttry:\n",
    "\t\t\treturn float(input(ask))\n",
    "\t\texcept ValueError:\n",
    "\t\t\tpass\n",
    "\t\t\n",
    "side_square = get_number('Please enter size of side of square')\n",
    "r_circle = get_number('Please enter radius of circle')\n",
    "\n",
    "result = True if 2 * math.pi * r_circle > 4 * side_square else False\n",
    "\n",
    "print(result)"
   ]
  },
  {
   "cell_type": "code",
   "execution_count": 6,
   "metadata": {},
   "outputs": [
    {
     "name": "stdout",
     "output_type": "stream",
     "text": [
      "Area of fence =  7.957747154594767\n"
     ]
    }
   ],
   "source": [
    "# 2. Джонни строит забор. В качестве входящих данных запросите - название\n",
    "# желаемой формы («круг» или «квадрат») и длину забора Джонни.\n",
    "# Выведите площадь, которую покрывает забор Джонни.\n",
    "\n",
    "while True:\n",
    "    name_figure = get_number('Enter form of fence: circle - 0, square - 1')\n",
    "    if name_figure == 1 or name_figure == 0:\n",
    "        break\n",
    "lengt_figure = get_number('Enter langht of fence') \n",
    "\n",
    "if name_figure:\n",
    "    S = (lengt_figure / 4) ** 2\n",
    "else:\n",
    "    S = (lengt_figure ** 2 ) / (4 * math.pi)\n",
    "\n",
    "print('Area of fence = ', S)"
   ]
  },
  {
   "cell_type": "code",
   "execution_count": 31,
   "metadata": {},
   "outputs": [
    {
     "name": "stdout",
     "output_type": "stream",
     "text": [
      "You choice -  stone  computer -  clips\n",
      "Yay, you win\n",
      "good result - Player\n"
     ]
    }
   ],
   "source": [
    "# 3. Запустите игру «камень-ножницы-бумага» против компьютера. Выведите\n",
    "# победителя.\n",
    "\n",
    "import random\n",
    "def game_chi_fi_fo():\n",
    "    dict_results = {('stone','clips') : 'stone',\n",
    "                ( 'paper','stone') : 'paper',\n",
    "                ('clips','paper') :'clips' }\n",
    "    while True:\n",
    "        your_choice = get_number('Make your choice: stone - 1, clips - 2, paper - 3')\n",
    "        if your_choice == 1:\n",
    "            figure = 'stone'\n",
    "            break\n",
    "        elif your_choice == 2:\n",
    "            figure = 'clips'\n",
    "            break\n",
    "        elif your_choice == 3:\n",
    "            figure = 'paper'\n",
    "            break\n",
    "    \n",
    "    answer_computer = random.choice(['stone','clips','paper'])\n",
    "    print('You choice - ', figure,' computer - ', answer_computer,)\n",
    "    if answer_computer == figure:\n",
    "        print('Result is  - Tie')\n",
    "        return 'Tie'\n",
    "    else:\n",
    "        if (answer_computer, figure) in dict_results:\n",
    "            print('Sorry, you lost')\n",
    "            return 'Computer'\n",
    "        else:\n",
    "            print('Yay, you win')\n",
    "            return 'Player'\n",
    "\n",
    "print('good result -', game_chi_fi_fo())"
   ]
  },
  {
   "cell_type": "code",
   "execution_count": 32,
   "metadata": {},
   "outputs": [
    {
     "name": "stdout",
     "output_type": "stream",
     "text": [
      "You choice -  stone  computer -  clips\n",
      "Yay, you win\n",
      "You choice -  stone  computer -  stone\n",
      "Result is  - Tie\n",
      "You choice -  clips  computer -  clips\n",
      "Result is  - Tie\n",
      "2\n",
      "Winner is  Tie\n"
     ]
    }
   ],
   "source": [
    "# 4. Запустите серию игр «камень, ножницы, бумага», пока пользователь не\n",
    "# захочет выйти. Выведите статистику после каждой игры (количество\n",
    "# побед компьютера, количество побед пользователя, количество ничьих).\n",
    "# Когда пользователь уйдет, выведите окончательного победителя.\n",
    "\n",
    "dict_winners = {'Computer': 0,\n",
    "                'Player'  : 0,\n",
    "                'Tie'     : 0}\n",
    "while True: \n",
    "    dict_winners[game_chi_fi_fo()] +=1\n",
    "    if input('Do you want to play more y/n') =='n':\n",
    "        break\n",
    "for key, value in dict_winners.items():\n",
    "    if value == max(dict_winners.values()):\n",
    "        print('Winner is ', key )\n",
    "        break\n"
   ]
  },
  {
   "cell_type": "code",
   "execution_count": 35,
   "metadata": {},
   "outputs": [
    {
     "name": "stdout",
     "output_type": "stream",
     "text": [
      "all numbers:  {2.5, 5.0, 22.0}\n",
      "max is -  22.0\n"
     ]
    }
   ],
   "source": [
    "# 5. Получите от пользователя вещественные числа, пока он не захочет\n",
    "# выйти. Когда он закончит ввод, выведите наименьшее число в\n",
    "# последовательности. Не используйте списки для этого упражнения.\n",
    "all_numbers = tuple()\n",
    "while True: \n",
    "    n = get_number('Please enter number')\n",
    "    all_numbers = all_numbers + (n,)\n",
    "    if input('Do you want to play more y/n') =='n':\n",
    "        break\n",
    "print('all numbers: ', all_numbers)\n",
    "print('max is - ', max(all_numbers))\n"
   ]
  },
  {
   "cell_type": "code",
   "execution_count": 59,
   "metadata": {},
   "outputs": [
    {
     "name": "stdout",
     "output_type": "stream",
     "text": [
      "all numbers:  (10.0, 10.0)\n",
      "Sorry, your don't have 3 elements\n",
      "10.0 10.0 "
     ]
    }
   ],
   "source": [
    "# 6. Получите от пользователя ввод вещественных чисел, пока он не захочет\n",
    "# выйти. Когда он закончит ввод, выведите самое большое число, затем\n",
    "# второе по величине число, затем третье по величине число. Не\n",
    "# используйте списки для этого упражнения.\n",
    "\n",
    "all_numbers = tuple()\n",
    "while True: \n",
    "    n = get_number('Please enter number')\n",
    "    all_numbers = all_numbers + (n,)\n",
    "    if input('Do you want to play more y/n') =='n':\n",
    "        break\n",
    "print('all numbers: ', all_numbers)\n",
    "end_for = 3\n",
    "if len(all_numbers) < 3:\n",
    "    print(\"Sorry, your don't have 3 elements\")\n",
    "    end_for = len(all_numbers)\n",
    "for i in range(end_for):\n",
    "    print(max(all_numbers), end = ' ')\n",
    "    new_list = ()\n",
    "    for j in range(len(all_numbers)):\n",
    "        if j != all_numbers.index(max(all_numbers)):\n",
    "           new_list = new_list + (all_numbers[j], )\n",
    "    all_numbers = new_list\n",
    "\n",
    "    \n"
   ]
  },
  {
   "cell_type": "code",
   "execution_count": 1,
   "metadata": {},
   "outputs": [
    {
     "name": "stdout",
     "output_type": "stream",
     "text": [
      "[2, 3, 5, 7, 11, 13, 17, 19, 23, 29, 31, 37, 41, 43, 47, 53, 59, 61, 67, 71, 73, 79, 83, 89, 97]\n"
     ]
    }
   ],
   "source": [
    "# 7. Выведите все простые числа от 1 до 100. Постарайтесь сделать вашу\n",
    "# программу максимально эффективной, используя только те\n",
    "# инструменты, которые мы изучили до сих пор.\n",
    "# Например, для каждого числа, которое мы проверяем на простоту, нам\n",
    "# нужно только проверить, делится ли оно на меньшие простые числа\n",
    "# (поэтому нам не нужно проверять деление на 4, 6, 8, 9, 10, ...).\n",
    "\n",
    "def is_prime(n):\n",
    "\n",
    "  \"\"\" varian 1 - optimal \n",
    "  check number is or not prime\"\"\"\n",
    "\n",
    "  if n == 3: return True      \n",
    "  # if n == 2 or n == 3: return True   -  for our task we can dell, we make this test when create list for numbers in function list_prime \n",
    "  # if n < 2 or n%2 == 0: return False -  for our task we can dell n < 2 conditions, because we make this check yearly in fucntion list_prime\n",
    "  if n < 9: return True\n",
    "  if n%3 == 0: return False\n",
    "  r = int(n**0.5)\n",
    "  # since all primes > 3 are of the form 6n ± 1\n",
    "  # start with f=5 (which is prime)\n",
    "  # and test f, f+2 for being prime\n",
    "  # then loop by 6. \n",
    "  f = 5\n",
    "  while f <= r:\n",
    "    #print('\\t',f)\n",
    "    if n % f == 0: return False\n",
    "    if n % (f+2) == 0: return False\n",
    "    f += 6\n",
    "  return True    \n",
    "\n",
    "def list_prime(m):\n",
    "    \"\"\"\n",
    "    make list of prime numbers \n",
    "    Args: func - name of function which will use that chech is or not number prime\n",
    "          m    - last number in list of numbers\n",
    "    \"\"\"\n",
    "    if m < 2:\n",
    "        print(\"no prime numbers in the sequence\")\n",
    "        return\n",
    "    if m == 2:\n",
    "        return m\n",
    "    res = [2]\n",
    "    for i in range(3, m+1, 2):\n",
    "        if is_prime(i):\n",
    "            res.append(i)\n",
    "    return res\n",
    "\n",
    "print(list_prime(100))"
   ]
  }
 ],
 "metadata": {
  "kernelspec": {
   "display_name": "Python 3",
   "language": "python",
   "name": "python3"
  },
  "language_info": {
   "codemirror_mode": {
    "name": "ipython",
    "version": 3
   },
   "file_extension": ".py",
   "mimetype": "text/x-python",
   "name": "python",
   "nbconvert_exporter": "python",
   "pygments_lexer": "ipython3",
   "version": "3.10.9 (tags/v3.10.9:1dd9be6, Dec  6 2022, 20:01:21) [MSC v.1934 64 bit (AMD64)]"
  },
  "orig_nbformat": 4,
  "vscode": {
   "interpreter": {
    "hash": "0a480542a10e3b1e39b8690dd1ce1c6016d1321b2a218b18d4ca8ee2858c3f4f"
   }
  }
 },
 "nbformat": 4,
 "nbformat_minor": 2
}
