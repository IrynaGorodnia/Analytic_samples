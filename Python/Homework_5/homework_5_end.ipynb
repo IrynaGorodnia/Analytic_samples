{
 "cells": [
  {
   "cell_type": "code",
   "execution_count": 2,
   "metadata": {},
   "outputs": [],
   "source": [
    "from collections import defaultdict\n",
    "from itertools import combinations\n"
   ]
  },
  {
   "cell_type": "code",
   "execution_count": 3,
   "metadata": {},
   "outputs": [],
   "source": [
    "def get_number(ask):\n",
    "\t\"\"\" \n",
    "\tAsk value and check type of this value. \n",
    "\tif typy is not float, will ask again input correct value\n",
    "\t\n",
    "\tArgs: description what need to enter\n",
    "\t\"\"\"\n",
    "\twhile True:\n",
    "\t\ttry:\n",
    "\t\t\treturn float(input(ask))\n",
    "\t\texcept ValueError:\n",
    "\t\t\tprint('Please try again')"
   ]
  },
  {
   "cell_type": "code",
   "execution_count": 4,
   "metadata": {},
   "outputs": [],
   "source": [
    "def count_products(list_products, dict_component):\n",
    "    \"\"\"\n",
    "    Generates a dictionary of list values by calculating the values\n",
    "\n",
    "    Arguments:\n",
    "        list_products: list of goods, name of with will be key of ductionary\n",
    "        dict_component: dictionary of goods with quantity of this goods in orders \n",
    "    \"\"\"\n",
    "    for product in list_products:\n",
    "        dict_component[product] = dict_component.setdefault(product, 0) + 1 "
   ]
  },
  {
   "cell_type": "code",
   "execution_count": 5,
   "metadata": {},
   "outputs": [],
   "source": [
    "def calculate_percent(dividend, divider):\n",
    "    \"\"\"\n",
    "    calculates the percentage of the two numbers\n",
    "\n",
    "    \"\"\"\n",
    "    return round((dividend / divider) * 100, 2)"
   ]
  },
  {
   "cell_type": "code",
   "execution_count": 6,
   "metadata": {},
   "outputs": [],
   "source": [
    "def write_to_file(f, key, confidence_good, support_good):\n",
    "    \"\"\"\n",
    "    Write information in file \n",
    "\n",
    "    Arguments:\n",
    "        f: name of file where will write all\n",
    "        key: goods that meet the condition of the problem\n",
    "        confidence_good: confidence of keys\n",
    "        support_good: support one of key\n",
    "    \"\"\"\n",
    "    f.write(\n",
    "        f'{key[0]} => {key[1]} ({confidence_good}%) {support_good}% support \\n')"
   ]
  },
  {
   "cell_type": "code",
   "execution_count": 7,
   "metadata": {},
   "outputs": [],
   "source": [
    "# variant with dictionary\n",
    "\n",
    "def market_basket_analysis_with_dict(file_name_orders, separator_of_orders,\\\n",
    "                                      separator_of_goods, confidence, support, file_nama_result):\n",
    "    \"\"\"\n",
    "    Make market basket analysis\n",
    "    calculate support as write here:\n",
    "    https://medium.com/nuances-of-programming/добыча-данных-анализ-рыночной-корзины-с-помощью-алгоритма-apriori-898ac5d65118 \n",
    "    and calculate confidence of goods as write in task and other source \n",
    "\n",
    "    Arguments:\n",
    "        file_name_orders:    file with all orders that make clients \n",
    "        separator_of_orders: separator of orders in file_name_orders \n",
    "        separator_of_goods:  separator of goods in file_name_orders\n",
    "        confidence:          confidence below which we are not interested in products   \n",
    "        support:             support below which we are not interested in products  \n",
    "        file_nama_result:    name of file wrere you will have all results of selection\n",
    "    \"\"\"\n",
    "    orders = []\n",
    "    dict_product = {}\n",
    "    dict_collection = {}\n",
    "    continue_dict = {}\n",
    "    support_dict = {}\n",
    "\n",
    "    with open(file_name_orders, \"r\", encoding=\"latin_1\") as file:\n",
    "        orders = [line.strip().split(separator_of_goods) for line in file.readlines() if line != separator_of_orders]\n",
    "\n",
    "    for order in orders:\n",
    "        count_products(order, dict_product)\n",
    "        count_products(list(combinations(sorted(order),2)), dict_collection)\n",
    "    \n",
    "    support_dict = {\n",
    "          key : calculate_percent(dict_product[key], len(orders)) for key, value in dict_product.items()\n",
    "    }   \n",
    "    \n",
    "    confidence_dict_1 = {\n",
    "        (key1, key2): calculate_percent(value, dict_product[key1])  for (key1, key2), value in dict_collection.items()                                                                                         \n",
    "    }\n",
    "    confidence_dict_2 = {\n",
    "        (key2, key1): calculate_percent(value, dict_product[key2]) for (key1, key2), value in dict_collection.items()                                                                                         \n",
    "    }\n",
    "\n",
    "    confidence_dict = {**confidence_dict_1, **confidence_dict_2}\n",
    "    with open(file_nama_result, \"w\") as f:\n",
    "            f.write('Result \\n')\n",
    "\n",
    "            for (key1, key2), value in confidence_dict.items():\n",
    "                  if (support_dict[key1] >= support) and (value >= confidence):\n",
    "                      write_to_file(f, (key1, key2), value, support_dict[key1]) \n"
   ]
  },
  {
   "cell_type": "code",
   "execution_count": 8,
   "metadata": {},
   "outputs": [],
   "source": [
    "# variant 2 with less quantity of dict\n",
    "\n",
    "def market_basket_analysis(file_name_orders, separator_of_orders, \\\n",
    "                           separator_of_goods, confidence, support, file_nama_result):\n",
    "    \"\"\"\n",
    "    Make market basket analysis\n",
    "    calculate support as write here:\n",
    "    https://medium.com/nuances-of-programming/добыча-данных-анализ-рыночной-корзины-с-помощью-алгоритма-apriori-898ac5d65118 \n",
    "    and calculate confidence of goods as write in task and other source \n",
    "\n",
    "    Arguments:\n",
    "        file_name_orders:    file with all orders that make clients \n",
    "        separator_of_orders: separator of orders in file_name_orders \n",
    "        separator_of_goods:  separator of goods in file_name_orders\n",
    "        confidence:          confidence below which we are not interested in products   \n",
    "        support:             support below which we are not interested in products  \n",
    "        file_nama_result:    name of file wrere you will have all results of selection\n",
    "    \"\"\"\n",
    "    orders = []\n",
    "    dict_product = {}\n",
    "    dict_collection = {}\n",
    "\n",
    "\n",
    "    with open(file_name_orders, \"r\", encoding=\"latin_1\") as file:\n",
    "        orders = [line.strip().split(separator_of_goods) for line in file.readlines() if line != separator_of_orders]\n",
    "\n",
    "    for order in orders:\n",
    "        count_products(order, dict_product)\n",
    "        count_products(list(combinations(sorted(order),2)), dict_collection)\n",
    "\n",
    "    with open(file_nama_result, \"w\") as f:\n",
    "            f.write('Result \\n')\n",
    "\n",
    "            for key, value in dict_collection.items():\n",
    "                for k in range(len(key)):\n",
    "                    support_good = calculate_percent(dict_product[key[k]], len(orders))\n",
    "                    if support_good >= support:\n",
    "                        confidence_good = calculate_percent(value, dict_product[key[k]])\n",
    "                        if confidence_good >= confidence:\n",
    "                            if k:\n",
    "                                key = (key[1], key[0])\n",
    "                            write_to_file(f, key, confidence_good, support_good)\n",
    "\n"
   ]
  },
  {
   "cell_type": "code",
   "execution_count": 10,
   "metadata": {},
   "outputs": [
    {
     "ename": "OSError",
     "evalue": "[Errno 22] Invalid argument: 'https://drive.google.com/file/d/1IOPTVq2ooQfZRkF3rAjGkTjRtbotG7FF/view'",
     "output_type": "error",
     "traceback": [
      "\u001b[1;31m---------------------------------------------------------------------------\u001b[0m",
      "\u001b[1;31mOSError\u001b[0m                                   Traceback (most recent call last)",
      "Cell \u001b[1;32mIn[10], line 12\u001b[0m\n\u001b[0;32m      9\u001b[0m \u001b[39m# market_basket_analysis('orders.txt', '\\n', '@@@', confidence, support, 'result_1.txt')\u001b[39;00m\n\u001b[0;32m     11\u001b[0m name_of_file \u001b[39m=\u001b[39m \u001b[39m'\u001b[39m\u001b[39mhttps://drive.google.com/file/d/1IOPTVq2ooQfZRkF3rAjGkTjRtbotG7FF/view\u001b[39m\u001b[39m'\u001b[39m\n\u001b[1;32m---> 12\u001b[0m market_basket_analysis_with_dict(name_of_file, \u001b[39m'\u001b[39;49m\u001b[39m\\n\u001b[39;49;00m\u001b[39m'\u001b[39;49m, \u001b[39m'\u001b[39;49m\u001b[39m@@@\u001b[39;49m\u001b[39m'\u001b[39;49m, confidence, support, \u001b[39m'\u001b[39;49m\u001b[39mresult.txt\u001b[39;49m\u001b[39m'\u001b[39;49m)\n\u001b[0;32m     13\u001b[0m \u001b[39mprint\u001b[39m(\u001b[39m'\u001b[39m\u001b[39mPlease check file with results - result.txt\u001b[39m\u001b[39m'\u001b[39m)\n",
      "Cell \u001b[1;32mIn[7], line 25\u001b[0m, in \u001b[0;36mmarket_basket_analysis_with_dict\u001b[1;34m(file_name_orders, separator_of_orders, separator_of_goods, confidence, support, file_nama_result)\u001b[0m\n\u001b[0;32m     22\u001b[0m continue_dict \u001b[39m=\u001b[39m {}\n\u001b[0;32m     23\u001b[0m support_dict \u001b[39m=\u001b[39m {}\n\u001b[1;32m---> 25\u001b[0m \u001b[39mwith\u001b[39;00m \u001b[39mopen\u001b[39;49m(file_name_orders, \u001b[39m\"\u001b[39;49m\u001b[39mr\u001b[39;49m\u001b[39m\"\u001b[39;49m, encoding\u001b[39m=\u001b[39;49m\u001b[39m\"\u001b[39;49m\u001b[39mlatin_1\u001b[39;49m\u001b[39m\"\u001b[39;49m) \u001b[39mas\u001b[39;00m file:\n\u001b[0;32m     26\u001b[0m     orders \u001b[39m=\u001b[39m [line\u001b[39m.\u001b[39mstrip()\u001b[39m.\u001b[39msplit(separator_of_goods) \u001b[39mfor\u001b[39;00m line \u001b[39min\u001b[39;00m file\u001b[39m.\u001b[39mreadlines() \u001b[39mif\u001b[39;00m line \u001b[39m!=\u001b[39m separator_of_orders]\n\u001b[0;32m     28\u001b[0m \u001b[39mfor\u001b[39;00m order \u001b[39min\u001b[39;00m orders:\n",
      "File \u001b[1;32m~\\AppData\\Roaming\\Python\\Python310\\site-packages\\IPython\\core\\interactiveshell.py:282\u001b[0m, in \u001b[0;36m_modified_open\u001b[1;34m(file, *args, **kwargs)\u001b[0m\n\u001b[0;32m    275\u001b[0m \u001b[39mif\u001b[39;00m file \u001b[39min\u001b[39;00m {\u001b[39m0\u001b[39m, \u001b[39m1\u001b[39m, \u001b[39m2\u001b[39m}:\n\u001b[0;32m    276\u001b[0m     \u001b[39mraise\u001b[39;00m \u001b[39mValueError\u001b[39;00m(\n\u001b[0;32m    277\u001b[0m         \u001b[39mf\u001b[39m\u001b[39m\"\u001b[39m\u001b[39mIPython won\u001b[39m\u001b[39m'\u001b[39m\u001b[39mt let you open fd=\u001b[39m\u001b[39m{\u001b[39;00mfile\u001b[39m}\u001b[39;00m\u001b[39m by default \u001b[39m\u001b[39m\"\u001b[39m\n\u001b[0;32m    278\u001b[0m         \u001b[39m\"\u001b[39m\u001b[39mas it is likely to crash IPython. If you know what you are doing, \u001b[39m\u001b[39m\"\u001b[39m\n\u001b[0;32m    279\u001b[0m         \u001b[39m\"\u001b[39m\u001b[39myou can use builtins\u001b[39m\u001b[39m'\u001b[39m\u001b[39m open.\u001b[39m\u001b[39m\"\u001b[39m\n\u001b[0;32m    280\u001b[0m     )\n\u001b[1;32m--> 282\u001b[0m \u001b[39mreturn\u001b[39;00m io_open(file, \u001b[39m*\u001b[39margs, \u001b[39m*\u001b[39m\u001b[39m*\u001b[39mkwargs)\n",
      "\u001b[1;31mOSError\u001b[0m: [Errno 22] Invalid argument: 'https://drive.google.com/file/d/1IOPTVq2ooQfZRkF3rAjGkTjRtbotG7FF/view'"
     ]
    }
   ],
   "source": [
    "\"\"\"\n",
    "confidence for our sample please don´t make bigger than 10%, for test better make 10\n",
    "support for our sample please don´t make bigger than 5% , for test better make 5\n",
    "\"\"\"\n",
    "\n",
    "confidence = get_number('Enter min confidence that you are integresting')\n",
    "support = get_number('Enter min support that you are integresting')              \n",
    "\n",
    "# market_basket_analysis('orders.txt', '\\n', '@@@', confidence, support, 'result_1.txt')\n",
    "\n",
    "market_basket_analysis_with_dict('orders.txt', '\\n', '@@@', confidence, support, 'result.txt')\n",
    "print('Please check file with results - result.txt')\n",
    "\n"
   ]
  }
 ],
 "metadata": {
  "kernelspec": {
   "display_name": "bida",
   "language": "python",
   "name": "python3"
  },
  "language_info": {
   "codemirror_mode": {
    "name": "ipython",
    "version": 3
   },
   "file_extension": ".py",
   "mimetype": "text/x-python",
   "name": "python",
   "nbconvert_exporter": "python",
   "pygments_lexer": "ipython3",
   "version": "3.10.8"
  },
  "orig_nbformat": 4,
  "vscode": {
   "interpreter": {
    "hash": "11e55255be32c0c731b564ebcdb3df0f495eab6b824f721e0830a3b4c79e8406"
   }
  }
 },
 "nbformat": 4,
 "nbformat_minor": 2
}
