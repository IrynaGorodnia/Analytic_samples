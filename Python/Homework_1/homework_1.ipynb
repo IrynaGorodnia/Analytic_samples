{
 "cells": [
  {
   "cell_type": "code",
   "execution_count": 2,
   "metadata": {},
   "outputs": [],
   "source": [
    "def get_number(ask):\n",
    "\t\"\"\" \n",
    "\tAsk value and check type of this value. \n",
    "\tif typy is not int, will ask again input correct value\n",
    "\t\n",
    "\tArgs: description what need to enter\n",
    "\t\"\"\"\n",
    "\twhile True:\n",
    "\t\ttry:\n",
    "\t\t\treturn int(input(ask))\n",
    "\t\texcept ValueError:\n",
    "\t\t\tpass"
   ]
  },
  {
   "cell_type": "code",
   "execution_count": null,
   "metadata": {},
   "outputs": [
    {
     "name": "stdout",
     "output_type": "stream",
     "text": [
      "Годовая зарплата fdfd составляет 148 тыс. долларов\n"
     ]
    }
   ],
   "source": [
    "\"\"\" 1. Запросите у пользователя имя и месячную зарплату в долларах и выведите\n",
    "их годовую зарплату в тысячах долларов.\n",
    "Например: «Мишель», «12345» → «Годовая зарплата Мишель составляет\n",
    "148 тыс. долларов». \"\"\"\n",
    "\n",
    "name = input('Enter your name: ')\n",
    "salary_in_month = get_number('Enter salary of month')\n",
    "print(f'Годовая зарплата {name} составляет {int(((salary_in_month*12)/1000))} тыс. долларов')"
   ]
  },
  {
   "cell_type": "code",
   "execution_count": 6,
   "metadata": {},
   "outputs": [
    {
     "name": "stdout",
     "output_type": "stream",
     "text": [
      "265  - False\n"
     ]
    }
   ],
   "source": [
    "''' 2. Запросите целое число и выведите «True», если это четное число в\n",
    "диапазоне от 100 до 999, в противном случае - «False».'''\n",
    "import random\n",
    "\n",
    "number = random.randint(100, 999)\n",
    "if (number % 2 == 0 and 100 < number < 999):\n",
    "    print(number,' - True')\n",
    "else:\n",
    "    print(number,' - False')"
   ]
  },
  {
   "cell_type": "code",
   "execution_count": 55,
   "metadata": {},
   "outputs": [
    {
     "name": "stdout",
     "output_type": "stream",
     "text": [
      "old number -  871  new number - 178\n"
     ]
    }
   ],
   "source": [
    "''' 3. В качестве входящих данных возьмем целое число; Предположим, что это\n",
    "число от 101 до 999, а его последняя цифра не равна нулю.\n",
    "Выведите обратное число.\n",
    "Например: 256 → 652.'''\n",
    "# variant 1\n",
    "import random\n",
    "\n",
    "flag = True\n",
    "new_s = ''\n",
    "while flag:\n",
    "    s = random.randint(101, 999)\n",
    "    if s % 10 != 0:\n",
    "        flag = False\n",
    "        new_s = str(s)\n",
    "    \n",
    "print('old number - ',new_s,' new number -', new_s[::-1])"
   ]
  },
  {
   "cell_type": "code",
   "execution_count": 54,
   "metadata": {},
   "outputs": [
    {
     "name": "stdout",
     "output_type": "stream",
     "text": [
      "old number - 893\n",
      "new number - 398\n"
     ]
    }
   ],
   "source": [
    "''' 3. В качестве входящих данных возьмем целое число; Предположим, что это\n",
    "число от 101 до 999, а его последняя цифра не равна нулю.\n",
    "Выведите обратное число.\n",
    "Например: 256 → 652.'''\n",
    "\n",
    "# variant 2\n",
    "flag = True\n",
    "\n",
    "while flag:\n",
    "    number = random.randint(101, 999)\n",
    "    if s % 10 != 0:\n",
    "        flag = False\n",
    "        \n",
    "i = 0\n",
    "print('old number -', number)\n",
    "print('new number - ', end='')\n",
    "while number != 0:\n",
    "    i = i * 10 + number % 10\n",
    "    number //= 10\n",
    "else:\n",
    "    print(i)"
   ]
  },
  {
   "cell_type": "code",
   "execution_count": 20,
   "metadata": {},
   "outputs": [
    {
     "name": "stdout",
     "output_type": "stream",
     "text": [
      "256 +  256 = 512\n",
      "256 -  256 = 0\n",
      "256 *  256 = 65536\n",
      "256 /  256 = 1.0\n",
      "256 %  256 = 0\n",
      "True\n"
     ]
    }
   ],
   "source": [
    "''' 4. Запросите два целых числа и выведите:\n",
    "a. Их сумму\n",
    "b. Их разность\n",
    "c. Произведение\n",
    "d. Результат деления первого на второе\n",
    "e. Остаток от деления первого на второе\n",
    "f. «True», если первое число больше или равно второму, иначе «False» '''\n",
    "\n",
    "number_1 = get_number('Please enter int')\n",
    "number_2 = get_number('Please enter int')\n",
    "\n",
    "print(number_1,'+ ', number_2,'=', number_1 + number_2)\n",
    "print(number_1,'- ', number_2,'=', number_1 - number_2)\n",
    "print(number_1,'* ', number_2,'=', number_1 * number_2)\n",
    "print(number_1,'/ ', number_2,'=', number_1 / number_2)\n",
    "print(number_1,'% ', number_2,'=', number_1 % number_2)\n",
    "\n",
    "if number_1 >= number_2:\n",
    "    print('True')\n",
    "else:\n",
    "    print('False')"
   ]
  }
 ],
 "metadata": {
  "kernelspec": {
   "display_name": "Python 3",
   "language": "python",
   "name": "python3"
  },
  "language_info": {
   "codemirror_mode": {
    "name": "ipython",
    "version": 3
   },
   "file_extension": ".py",
   "mimetype": "text/x-python",
   "name": "python",
   "nbconvert_exporter": "python",
   "pygments_lexer": "ipython3",
   "version": "3.10.9 (tags/v3.10.9:1dd9be6, Dec  6 2022, 20:01:21) [MSC v.1934 64 bit (AMD64)]"
  },
  "orig_nbformat": 4,
  "vscode": {
   "interpreter": {
    "hash": "0a480542a10e3b1e39b8690dd1ce1c6016d1321b2a218b18d4ca8ee2858c3f4f"
   }
  }
 },
 "nbformat": 4,
 "nbformat_minor": 2
}
