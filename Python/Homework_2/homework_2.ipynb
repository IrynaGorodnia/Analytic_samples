{
 "cells": [
  {
   "cell_type": "code",
   "execution_count": 2,
   "metadata": {},
   "outputs": [],
   "source": [
    "def get_number(ask):\n",
    "\t\"\"\" \n",
    "\tAsk value and check type of this value. \n",
    "\tif typy is not int, will ask again input correct value\n",
    "\t\n",
    "\tArgs: description what need to enter\n",
    "\t\"\"\"\n",
    "\twhile True:\n",
    "\t\ttry:\n",
    "\t\t\treturn int(input(ask))\n",
    "\t\texcept ValueError:\n",
    "\t\t\tpass"
   ]
  },
  {
   "cell_type": "code",
   "execution_count": 3,
   "metadata": {},
   "outputs": [
    {
     "name": "stdout",
     "output_type": "stream",
     "text": [
      "ham\n"
     ]
    }
   ],
   "source": [
    "\"\"\"1. В качестве входящих данных запросите целое число. Если оно делится на 3,\n",
    "выведите «foo»; если оно делится на 5, выведите «bar»; если оно делится на оба,\n",
    "выведите «ham» (а не «foo» или «bar»).\"\"\"\n",
    "\n",
    "number = get_number('Enter number: ')\n",
    "\n",
    "if number % 3 == 0 and number % 5 == 0:\n",
    "    print('ham')\n",
    "elif number % 3 == 0:\n",
    "    print('foo')\n",
    "elif number % 5 == 0:\n",
    "    print('bar')\n",
    "else:\n",
    "    print('not division 5 and 3')"
   ]
  },
  {
   "cell_type": "code",
   "execution_count": 3,
   "metadata": {},
   "outputs": [
    {
     "name": "stdout",
     "output_type": "stream",
     "text": [
      "10 = 10\n"
     ]
    }
   ],
   "source": [
    "\"\"\"2. В качестве входящих данных запросите два числа и выведите какое из них\n",
    "меньше и какое большее.\"\"\"\n",
    "\n",
    "number_1 = get_number('Enter number: ')\n",
    "number_2 = get_number('Enter number: ')\n",
    "\n",
    "if number_1 > number_2:\n",
    "    print(number_1,'>',number_2)\n",
    "elif number_1 < number_2:\n",
    "    print(number_1,'<',number_2)\n",
    "else:\n",
    "    print(number_1, '=', number_2)"
   ]
  },
  {
   "cell_type": "code",
   "execution_count": 21,
   "metadata": {},
   "outputs": [
    {
     "name": "stdout",
     "output_type": "stream",
     "text": [
      "old list: [45, 40, 25]  new list min to max:  [25, 40, 45]\n",
      "avg_sum = 36.666666666666664  min =  25 max = 45\n"
     ]
    }
   ],
   "source": [
    "\"\"\"3. В качестве входящих данных запросите три числа и выведите наименьшее,\n",
    "среднее и наибольшее. Предположим, все они разные.\"\"\"\n",
    "\n",
    "numbers = []\n",
    "for i in range(3):\n",
    "    numbers.append(get_number('Enter number'))\n",
    "\n",
    "sort_numbers = sorted(numbers)\n",
    "print('old list:', numbers,' new list min to max: ',sort_numbers)\n",
    "\n",
    "print('avg_sum =', sum(numbers) / len(numbers),' min = ', min(numbers), 'max =', max(numbers))"
   ]
  },
  {
   "cell_type": "code",
   "execution_count": null,
   "metadata": {},
   "outputs": [],
   "source": [
    "\"\"\"4. Прочтите это объяснение list slicing .\n",
    "https://www.learnbyexample.org/python-list-slicing/\n",
    "\n",
    "done :)\n",
    "\"\"\""
   ]
  },
  {
   "cell_type": "code",
   "execution_count": 23,
   "metadata": {},
   "outputs": [
    {
     "name": "stdout",
     "output_type": "stream",
     "text": [
      "fizz buzz\t,1\t,2\t,fizz\t,4\t,buzz\t,fizz\t,7\t,8\t,fizz\t,buzz\t,11\t,fizz\t,13\t,14\t,fizz buzz\t,16\t,17\t,fizz\t,19\t,buzz\t,fizz\t,22\t,23\t,fizz\t,buzz\t,26\t,fizz\t,28\t,29\t,fizz buzz\t,31\t,32\t,fizz\t,34\t,buzz\t,fizz\t,37\t,38\t,fizz\t,buzz\t,41\t,fizz\t,43\t,44\t,fizz buzz\t,46\t,47\t,fizz\t,49\t,buzz\t,fizz\t,52\t,53\t,fizz\t,buzz\t,56\t,fizz\t,58\t,59\t,fizz buzz\t,61\t,62\t,fizz\t,64\t,buzz\t,fizz\t,67\t,68\t,fizz\t,buzz\t,71\t,fizz\t,73\t,74\t,fizz buzz\t,76\t,77\t,fizz\t,79\t,buzz\t,fizz\t,82\t,83\t,fizz\t,buzz\t,86\t,fizz\t,88\t,89\t,fizz buzz\t,91\t,92\t,fizz\t,94\t,buzz\t,fizz\t,97\t,98\t,fizz\t, \n"
     ]
    }
   ],
   "source": [
    "# variant 1\n",
    "\"\"\"5. Сыграйте в игру Fizz-Buzz: выведите все числа от 1 до 100; если число делится на\n",
    "3, вместо числа выведите «fizz». Если оно делится на 5, вместо числа выведите\n",
    "“buzz”. Если оно делится на оба, выведите «fizz buzz» вместо числа.\"\"\"\n",
    "\n",
    "for i in range(1, 101):\n",
    "    if (i % 3 == 0 and i % 5 == 0):\n",
    "        print('fizz buzz\\t', end=',')\n",
    "    elif i % 3 == 0:\n",
    "        print('fizz\\t', end=',')\n",
    "    elif i % 5 == 0:\n",
    "        print('buzz\\t', end=',')\n",
    "    else:\n",
    "        print(f'{i}\\t', end=',')\n",
    "print(' ')"
   ]
  },
  {
   "cell_type": "code",
   "execution_count": 33,
   "metadata": {},
   "outputs": [
    {
     "name": "stdout",
     "output_type": "stream",
     "text": [
      "[1, 2, 'fizz', 4, ' buzz', 'fizz', 7, 8, 'fizz', ' buzz', 11, 'fizz', 13, 14, 'fizz buzz', 16, 17, 'fizz', 19, ' buzz', 'fizz', 22, 23, 'fizz', ' buzz', 26, 'fizz', 28, 29, 'fizz buzz', 31, 32, 'fizz', 34, ' buzz', 'fizz', 37, 38, 'fizz', ' buzz', 41, 'fizz', 43, 44, 'fizz buzz', 46, 47, 'fizz', 49, ' buzz', 'fizz', 52, 53, 'fizz', ' buzz', 56, 'fizz', 58, 59, 'fizz buzz', 61, 62, 'fizz', 64, ' buzz', 'fizz', 67, 68, 'fizz', ' buzz', 71, 'fizz', 73, 74, 'fizz buzz', 76, 77, 'fizz', 79, ' buzz', 'fizz', 82, 83, 'fizz', ' buzz', 86, 'fizz', 88, 89, 'fizz buzz', 91, 92, 'fizz', 94, ' buzz', 'fizz', 97, 98, 'fizz', ' buzz']\n"
     ]
    }
   ],
   "source": [
    "# variant 2\n",
    "\"\"\"5. Сыграйте в игру Fizz-Buzz: выведите все числа от 1 до 100; если число делится на\n",
    "3, вместо числа выведите «fizz». Если оно делится на 5, вместо числа выведите\n",
    "“buzz”. Если оно делится на оба, выведите «fizz buzz» вместо числа.\"\"\"\n",
    "\n",
    "i_list = [i for i in range(1,101)]\n",
    "for i in range(2, 101,3):\n",
    "    i_list[i] = 'fizz'\n",
    "for i in range(4, 101,5):\n",
    "    i_list[i] = ' buzz'\n",
    "for i in range(14, 101,15):\n",
    "    i_list[i] = 'fizz buzz'\n",
    "\n",
    "print(i_list)"
   ]
  },
  {
   "cell_type": "code",
   "execution_count": 43,
   "metadata": {},
   "outputs": [
    {
     "name": "stdout",
     "output_type": "stream",
     "text": [
      "1 \t,2 \t,3 \t,4 \t,5 \t,6 \t,BOOM\t,8 \t,9 \t,10 \t,11 \t,12 \t,13 \t,BOOM\t,15 \t,16 \t,BOOM\t,18 \t,19 \t,20 \t,BOOM\t,22 \t,23 \t,24 \t,25 \t,26 \t,BOOM\t,BOOM\t,29 \t,30 \t,31 \t,32 \t,33 \t,34 \t,BOOM\t,36 \t,BOOM\t,38 \t,39 \t,40 \t,41 \t,BOOM\t,43 \t,44 \t,45 \t,46 \t,BOOM\t,48 \t,BOOM\t,50 \t,51 \t,52 \t,53 \t,54 \t,55 \t,BOOM\t,BOOM\t,58 \t,59 \t,60 \t,61 \t,62 \t,BOOM\t,64 \t,65 \t,66 \t,BOOM\t,68 \t,69 \t,BOOM\t,BOOM\t,BOOM\t,BOOM\t,BOOM\t,BOOM\t,BOOM\t,BOOM\t,BOOM\t,BOOM\t,80 \t,81 \t,82 \t,83 \t,BOOM\t,85 \t,86 \t,BOOM\t,88 \t,89 \t,90 \t,BOOM\t,92 \t,93 \t,94 \t,95 \t,96 \t,BOOM\t,BOOM\t,99 \t,100 \t,"
     ]
    }
   ],
   "source": [
    "#variant 1\n",
    "\"\"\"6. Сыграйте в игру 7-boom: выведите все числа от 1 до 100; если число делится на 7\n",
    "или содержит цифру 7, выведите “BOOM” вместо числа.\"\"\"\n",
    "for i in range(1, 101):\n",
    "    if 69 < i < 80 or i % 10 == 7 or i % 7 == 0:\n",
    "        print('BOOM\\t', end=',')\n",
    "    else:\n",
    "        print(i,'\\t', end=',')"
   ]
  },
  {
   "cell_type": "code",
   "execution_count": 44,
   "metadata": {},
   "outputs": [
    {
     "name": "stdout",
     "output_type": "stream",
     "text": [
      "1 \t,2 \t,3 \t,4 \t,5 \t,6 \t,BOOM\t,8 \t,9 \t,10 \t,11 \t,12 \t,13 \t,BOOM\t,15 \t,16 \t,BOOM\t,18 \t,19 \t,20 \t,BOOM\t,22 \t,23 \t,24 \t,25 \t,26 \t,BOOM\t,BOOM\t,29 \t,30 \t,31 \t,32 \t,33 \t,34 \t,BOOM\t,36 \t,BOOM\t,38 \t,39 \t,40 \t,41 \t,BOOM\t,43 \t,44 \t,45 \t,46 \t,BOOM\t,48 \t,BOOM\t,50 \t,51 \t,52 \t,53 \t,54 \t,55 \t,BOOM\t,BOOM\t,58 \t,59 \t,60 \t,61 \t,62 \t,BOOM\t,64 \t,65 \t,66 \t,BOOM\t,68 \t,69 \t,BOOM\t,BOOM\t,BOOM\t,BOOM\t,BOOM\t,BOOM\t,BOOM\t,BOOM\t,BOOM\t,BOOM\t,80 \t,81 \t,82 \t,83 \t,BOOM\t,85 \t,86 \t,BOOM\t,88 \t,89 \t,90 \t,BOOM\t,92 \t,93 \t,94 \t,95 \t,96 \t,BOOM\t,BOOM\t,99 \t,100 \t, \n"
     ]
    }
   ],
   "source": [
    "#variant 2\n",
    "\"\"\"6. Сыграйте в игру 7-boom: выведите все числа от 1 до 100; если число делится на 7\n",
    "или содержит цифру 7, выведите “BOOM” вместо числа.\"\"\"\n",
    "\n",
    "for i in range(1, 101):\n",
    "    if i % 7 == 0 or str(i).find('7') != -1:\n",
    "        print('BOOM\\t', end=',')\n",
    "    else:\n",
    "        print(i,'\\t', end=',')\n",
    "print(' ')\n",
    "\n"
   ]
  }
 ],
 "metadata": {
  "kernelspec": {
   "display_name": "Python 3",
   "language": "python",
   "name": "python3"
  },
  "language_info": {
   "codemirror_mode": {
    "name": "ipython",
    "version": 3
   },
   "file_extension": ".py",
   "mimetype": "text/x-python",
   "name": "python",
   "nbconvert_exporter": "python",
   "pygments_lexer": "ipython3",
   "version": "3.10.9 (tags/v3.10.9:1dd9be6, Dec  6 2022, 20:01:21) [MSC v.1934 64 bit (AMD64)]"
  },
  "orig_nbformat": 4,
  "vscode": {
   "interpreter": {
    "hash": "0a480542a10e3b1e39b8690dd1ce1c6016d1321b2a218b18d4ca8ee2858c3f4f"
   }
  }
 },
 "nbformat": 4,
 "nbformat_minor": 2
}
