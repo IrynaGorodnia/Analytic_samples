{
 "cells": [
  {
   "cell_type": "code",
   "execution_count": 4,
   "metadata": {},
   "outputs": [],
   "source": [
    "def get_number(ask):\n",
    "\t\"\"\" \n",
    "\tAsk value and check type of this value. \n",
    "\tif typy is not int, will ask again input correct value\n",
    "\t\n",
    "\tArgs: description what need to enter\n",
    "\t\"\"\"\n",
    "\twhile True:\n",
    "\t\ttry:\n",
    "\t\t\treturn int(input(ask))\n",
    "\t\texcept ValueError:\n",
    "\t\t\tpass"
   ]
  },
  {
   "cell_type": "code",
   "execution_count": 5,
   "metadata": {},
   "outputs": [
    {
     "name": "stdout",
     "output_type": "stream",
     "text": [
      "Information about all students\n",
      " [{'name': 'апавп', 'mark': 12, 'status': 'Passed'}, {'name': 'fgfg', 'mark': 14, 'status': 'Faild'}]\n",
      "Professor is crazy, or make mistake when enter information\n"
     ]
    }
   ],
   "source": [
    "#variant 1\n",
    "\n",
    "students = []\n",
    "while True: \n",
    "    name = input('Enter name of student')\n",
    "    mark = get_number('Enter mark of student')\n",
    "    status = 'Passed' if input(\"Please Enter p if passed exam y other letter if don't passed\") == 'p' else 'Faild'\n",
    "    students.append({'name':name, 'mark':mark, 'status':status })\n",
    "    if input('do you want add students y/n') =='n':\n",
    "        break\n",
    "\n",
    "print('Information about all students\\n', students)\n",
    "\n",
    "list_passed = []\n",
    "list_failed = []\n",
    "\n",
    "for e in students:\n",
    "    if e['status'] == 'Passed':\n",
    "        list_passed.append(e['mark'])\n",
    "    else:\n",
    "        list_failed.append(e['mark'])\n",
    "\n",
    "if len(list_passed) == 0:\n",
    "    print(\"All students can't passed exam\")\n",
    "elif len(list_failed) == 0:\n",
    "    print(\"All students passed exam\")\n",
    "else:\n",
    "    if max(list_failed) < min(list_passed):\n",
    "        print('Professor Grooble has been consistent')\n",
    "        print('Exam range from', max(list_failed)+1,' to ', min(list_passed))\n",
    "    else:\n",
    "        print('Professor is crazy, or make mistake when enter information')"
   ]
  },
  {
   "cell_type": "code",
   "execution_count": 23,
   "metadata": {},
   "outputs": [
    {
     "name": "stdout",
     "output_type": "stream",
     "text": [
      "Information about all students\n",
      " [{'name': 'Student Passed', 'mark': 100, 'status': 'Passed'}, {'name': 'Student Faild', 'mark': 0, 'status': 'Faild'}, {'name': 'Student ', 'mark': 84, 'status': 'Faild'}, {'name': 'Student ', 'mark': 78, 'status': 'Passed'}]\n",
      "Professor is crazy, or make mistake when enter information\n"
     ]
    }
   ],
   "source": [
    "#variant 2\n",
    "# для этого варианта мы берем что оценка не может быть выше 100 (100 - экзамен сдан) и не ниже 0(0 - экхамен не сдан)\n",
    "\n",
    "\n",
    "students = [{'name':'Student Passed','mark':100,'status':'Passed'},{'name':'Student Faild','mark':0,'status':'Faild'}]\n",
    "while True: \n",
    "    name = input('Enter name of student')\n",
    "    mark = get_number('Enter mark of student')\n",
    "    status = 'Passed' if input(\"Please Enter p if passed exam y other letter if don't passed\") == 'p' else 'Faild'\n",
    "    students.append({'name':name, 'mark':mark, 'status':status })\n",
    "    if input('do you want add students y/n') =='n':\n",
    "        break\n",
    "\n",
    "print('Information about all students\\n', students)\n",
    "\n",
    "min_pass = min([s['mark'] for s in students if s['status']== 'Passed'])\n",
    "max_fail = max([s['mark'] for s in students if s['status']== 'Faild'])\n",
    "\n",
    "if max_fail < min_pass:\n",
    "    print('Professor Grooble has been consistent')\n",
    "    print('Exam range from', max_fail+1,' to ', min_pass)\n",
    "else:\n",
    "    print('Professor is crazy, or make mistake when enter information')"
   ]
  },
  {
   "cell_type": "code",
   "execution_count": 7,
   "metadata": {},
   "outputs": [
    {
     "name": "stdout",
     "output_type": "stream",
     "text": [
      "Information about all students\n",
      " [{'name': 'gfgfg', 'mark': 14, 'status': 'Passed'}, {'name': 'gfgfg', 'mark': 2, 'status': 'Passed'}]\n",
      "All students passed exam\n"
     ]
    }
   ],
   "source": [
    "#variant 1\n",
    "import random\n",
    "\n",
    "students = []\n",
    "while True: \n",
    "    name = input('Enter name of student')\n",
    "    mark = get_number('Enter mark of student')\n",
    "    status = random.choice(['Passed','Faild'])\n",
    "    students.append({'name':name, 'mark':mark, 'status':status })\n",
    "    if input('do you want add students y/n') =='n':\n",
    "        break\n",
    "\n",
    "print('Information about all students\\n', students)\n",
    "\n",
    "list_passed = []\n",
    "list_failed = []\n",
    "\n",
    "for e in students:\n",
    "    if e['status'] == 'Passed':\n",
    "        list_passed.append(e['mark'])\n",
    "    else:\n",
    "        list_failed.append(e['mark'])\n",
    "\n",
    "if len(list_passed) == 0:\n",
    "    print(\"All students can't passed exam\")\n",
    "elif len(list_failed) == 0:\n",
    "    print(\"All students passed exam\")\n",
    "else:\n",
    "    if max(list_failed) < min(list_passed):\n",
    "        print('Professor Grooble has been consistent')\n",
    "        print('Exam range from', max(list_failed)+1,' to ', min(list_passed))\n",
    "    else:\n",
    "        print('Professor is crazy, or make mistake when enter information')"
   ]
  }
 ],
 "metadata": {
  "kernelspec": {
   "display_name": "bida",
   "language": "python",
   "name": "python3"
  },
  "language_info": {
   "codemirror_mode": {
    "name": "ipython",
    "version": 3
   },
   "file_extension": ".py",
   "mimetype": "text/x-python",
   "name": "python",
   "nbconvert_exporter": "python",
   "pygments_lexer": "ipython3",
   "version": "3.10.8 | packaged by conda-forge | (main, Nov 24 2022, 14:07:00) [MSC v.1916 64 bit (AMD64)]"
  },
  "orig_nbformat": 4,
  "vscode": {
   "interpreter": {
    "hash": "11e55255be32c0c731b564ebcdb3df0f495eab6b824f721e0830a3b4c79e8406"
   }
  }
 },
 "nbformat": 4,
 "nbformat_minor": 2
}
