{
 "cells": [
  {
   "cell_type": "code",
   "execution_count": 30,
   "metadata": {},
   "outputs": [],
   "source": [
    "def is_prime(n):\n",
    "\n",
    "  \"\"\" varian 1 - optimal \n",
    "  check number is or not prime\"\"\"\n",
    "\n",
    "  if n == 2 or n == 3: return True   \n",
    "  if n < 2 or n%2 == 0: return False \n",
    "  if n < 9: return True\n",
    "  if n%3 == 0: return False\n",
    "  r = int(n**0.5)\n",
    "  # since all primes > 3 are of the form 6n ± 1\n",
    "  # start with f=5 (which is prime)\n",
    "  # and test f, f+2 for being prime\n",
    "  # then loop by 6. \n",
    "  f = 5\n",
    "  while f <= r:\n",
    "    #print('\\t',f)\n",
    "    if n % f == 0: return False\n",
    "    if n % (f+2) == 0: return False\n",
    "    f += 6\n",
    "  return True    \n",
    "\n"
   ]
  },
  {
   "cell_type": "code",
   "execution_count": 38,
   "metadata": {},
   "outputs": [],
   "source": [
    "def isPrime1(n):\n",
    "    \"\"\" varian 3  \n",
    "    check number is or not prime\n",
    "    \"\"\"\n",
    "    if n==2 or n==3: return True\n",
    "    if n%2==0 or n<2: return False\n",
    "\n",
    "    for i in range(3, int(n**0.5)+1, 2):   # only odd numbers\n",
    "        if n%i==0:\n",
    "            return False    \n",
    "\n",
    "    return True\n",
    "\n"
   ]
  },
  {
   "cell_type": "code",
   "execution_count": 40,
   "metadata": {},
   "outputs": [],
   "source": [
    "def isPrime2(n):\n",
    "    \"\"\" varian 2 \n",
    "        check number is or not prime\n",
    "        \"\"\"\n",
    "    if n < 2: return False\n",
    "    for i in range(2, int(n**0.5)+1):\n",
    "        if n % i == 0:\n",
    "            return False\n",
    "\n",
    "    return True\n"
   ]
  },
  {
   "cell_type": "code",
   "execution_count": null,
   "metadata": {},
   "outputs": [],
   "source": [
    "def isPrime3(x=100):\n",
    "    num_list = [2]\n",
    "    flag = 0\n",
    "    for j in range(3, int((x)**0.5+1), 2):\n",
    "        if x % j == 0:\n",
    "            flag += 1\n",
    "            if flag > 1: break\n",
    "    if flag == 1:\n",
    "        num_list.append(x)\n",
    "    return num_list"
   ]
  },
  {
   "cell_type": "code",
   "execution_count": 8,
   "metadata": {},
   "outputs": [],
   "source": [
    "def list_prime(func,m):\n",
    "    \"\"\"\n",
    "    make list of prime numbers \n",
    "    Args: func - name of function which will use that chech is or not number prime\n",
    "          m    - last number in list of numbers\n",
    "    \"\"\"\n",
    "    res = []\n",
    "    for i in range(m+1):\n",
    "        if func(i):\n",
    "            res.append(i)\n",
    "    #print(res) \n",
    "    return res\n",
    "    "
   ]
  },
  {
   "cell_type": "code",
   "execution_count": 54,
   "metadata": {},
   "outputs": [
    {
     "name": "stdout",
     "output_type": "stream",
     "text": [
      "[2, 3, 5, 7]\n",
      "[2, 3, 5, 7]\n",
      "[2, 3, 5, 7]\n",
      "[2, 3, 5, 7, 9]\n"
     ]
    }
   ],
   "source": [
    "def list_prime_1(func,m):\n",
    "    \"\"\"\n",
    "    make list of prime numbers \n",
    "    Args: func - name of function which will use that chech is or not number prime\n",
    "          m    - last number in list of numbers\n",
    "    \"\"\"\n",
    "    if m < 2:\n",
    "        print(\"нет простых чисел в последовательности\")\n",
    "        return\n",
    "    if m == 2:\n",
    "        return m\n",
    "    res = [2]\n",
    "    for i in range(3, m+1, 2):\n",
    "        if func(i):\n",
    "            res.append(i)\n",
    "    #print(res) \n",
    "    return res\n",
    "\n"
   ]
  },
  {
   "cell_type": "code",
   "execution_count": 55,
   "metadata": {},
   "outputs": [],
   "source": [
    "import time\n",
    "\n",
    "def timeit(func, arg):\n",
    "    \"\"\"\n",
    "    function that calculate how many times need that make list of prime numbers with other logics\n",
    "    \n",
    "    Args: func - name of function which will use for checking number prime or no\n",
    "          args - end namber in list of numbers where will be find all prime numbers\n",
    "    \"\"\"\n",
    "    time_start = time.time()\n",
    "    res = list_prime_1(func,arg)\n",
    "    time_end = time.time()\n",
    "    \n",
    "    return (time_end - time_start) * 1000.0, res"
   ]
  },
  {
   "cell_type": "code",
   "execution_count": 56,
   "metadata": {},
   "outputs": [
    {
     "name": "stdout",
     "output_type": "stream",
     "text": [
      "[100, 0.0, 0.0, 0.0, 0.0]\n",
      "[1000, 0.0, 0.9970664978027344, 0.0, 0.9968280792236328]\n",
      "[10000, 4.00543212890625, 3.984212875366211, 11.131525039672852, 11.966705322265625]\n",
      "[100000, 69.84567642211914, 86.73429489135742, 131.64877891540527, 150.59661865234375]\n"
     ]
    }
   ],
   "source": [
    "import random\n",
    "\n",
    "res = []\n",
    "for i in (100, 1000, 10000, 100000):\n",
    "    res.append([i,\n",
    "                timeit(is_prime, i)[0],   \n",
    "                timeit(isPrime1, i)[0],\n",
    "                timeit(isPrime2, i)[0],\n",
    "                timeit(isPrime3, i)[0]\n",
    "\n",
    "                ])\n",
    "print(*res,sep='\\n')\n"
   ]
  }
 ],
 "metadata": {
  "kernelspec": {
   "display_name": "Python 3",
   "language": "python",
   "name": "python3"
  },
  "language_info": {
   "codemirror_mode": {
    "name": "ipython",
    "version": 3
   },
   "file_extension": ".py",
   "mimetype": "text/x-python",
   "name": "python",
   "nbconvert_exporter": "python",
   "pygments_lexer": "ipython3",
   "version": "3.10.9 (tags/v3.10.9:1dd9be6, Dec  6 2022, 20:01:21) [MSC v.1934 64 bit (AMD64)]"
  },
  "orig_nbformat": 4,
  "vscode": {
   "interpreter": {
    "hash": "0a480542a10e3b1e39b8690dd1ce1c6016d1321b2a218b18d4ca8ee2858c3f4f"
   }
  }
 },
 "nbformat": 4,
 "nbformat_minor": 2
}
